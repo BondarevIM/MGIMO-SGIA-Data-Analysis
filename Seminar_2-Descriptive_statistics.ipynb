{
 "cells": [
  {
   "cell_type": "markdown",
   "id": "eeb12b99-005b-4455-937e-8be140061953",
   "metadata": {},
   "source": [
    "\n",
    "# Descriptive Statistics Analysis: Diamond Dataset\n",
    "\n",
    "### In this notebook, we will load the 'Diamond.csv' dataset and compute descriptive statistics <br> to understand the distribution and characteristics of diamond features.\n",
    "\n"
   ]
  },
  {
   "cell_type": "code",
   "execution_count": 52,
   "id": "5e22e5cf-662f-4c49-81b8-d386c6c44782",
   "metadata": {},
   "outputs": [],
   "source": [
    "# 1. Import Libraries\n",
    "\n",
    "import pandas as pd\n",
    "import numpy as np\n",
    "\n"
   ]
  },
  {
   "cell_type": "code",
   "execution_count": 53,
   "id": "37b00ad2-4fd2-4260-a2a8-0e5d206c588c",
   "metadata": {},
   "outputs": [
    {
     "data": {
      "text/html": [
       "<div>\n",
       "<style scoped>\n",
       "    .dataframe tbody tr th:only-of-type {\n",
       "        vertical-align: middle;\n",
       "    }\n",
       "\n",
       "    .dataframe tbody tr th {\n",
       "        vertical-align: top;\n",
       "    }\n",
       "\n",
       "    .dataframe thead th {\n",
       "        text-align: right;\n",
       "    }\n",
       "</style>\n",
       "<table border=\"1\" class=\"dataframe\">\n",
       "  <thead>\n",
       "    <tr style=\"text-align: right;\">\n",
       "      <th></th>\n",
       "      <th>carat</th>\n",
       "      <th>colour</th>\n",
       "      <th>clarity</th>\n",
       "      <th>certification</th>\n",
       "      <th>price</th>\n",
       "    </tr>\n",
       "  </thead>\n",
       "  <tbody>\n",
       "    <tr>\n",
       "      <th>0</th>\n",
       "      <td>0.30</td>\n",
       "      <td>D</td>\n",
       "      <td>VS2</td>\n",
       "      <td>GIA</td>\n",
       "      <td>1302</td>\n",
       "    </tr>\n",
       "    <tr>\n",
       "      <th>1</th>\n",
       "      <td>0.30</td>\n",
       "      <td>E</td>\n",
       "      <td>VS1</td>\n",
       "      <td>GIA</td>\n",
       "      <td>1510</td>\n",
       "    </tr>\n",
       "    <tr>\n",
       "      <th>2</th>\n",
       "      <td>0.30</td>\n",
       "      <td>G</td>\n",
       "      <td>VVS1</td>\n",
       "      <td>GIA</td>\n",
       "      <td>1510</td>\n",
       "    </tr>\n",
       "    <tr>\n",
       "      <th>3</th>\n",
       "      <td>0.30</td>\n",
       "      <td>G</td>\n",
       "      <td>VS1</td>\n",
       "      <td>GIA</td>\n",
       "      <td>1260</td>\n",
       "    </tr>\n",
       "    <tr>\n",
       "      <th>4</th>\n",
       "      <td>0.31</td>\n",
       "      <td>D</td>\n",
       "      <td>VS1</td>\n",
       "      <td>GIA</td>\n",
       "      <td>1641</td>\n",
       "    </tr>\n",
       "    <tr>\n",
       "      <th>5</th>\n",
       "      <td>0.31</td>\n",
       "      <td>E</td>\n",
       "      <td>VS1</td>\n",
       "      <td>GIA</td>\n",
       "      <td>1555</td>\n",
       "    </tr>\n",
       "    <tr>\n",
       "      <th>6</th>\n",
       "      <td>0.31</td>\n",
       "      <td>F</td>\n",
       "      <td>VS1</td>\n",
       "      <td>GIA</td>\n",
       "      <td>1427</td>\n",
       "    </tr>\n",
       "    <tr>\n",
       "      <th>7</th>\n",
       "      <td>0.31</td>\n",
       "      <td>G</td>\n",
       "      <td>VVS2</td>\n",
       "      <td>GIA</td>\n",
       "      <td>1427</td>\n",
       "    </tr>\n",
       "    <tr>\n",
       "      <th>8</th>\n",
       "      <td>0.31</td>\n",
       "      <td>H</td>\n",
       "      <td>VS2</td>\n",
       "      <td>GIA</td>\n",
       "      <td>1126</td>\n",
       "    </tr>\n",
       "    <tr>\n",
       "      <th>9</th>\n",
       "      <td>0.31</td>\n",
       "      <td>I</td>\n",
       "      <td>VS1</td>\n",
       "      <td>GIA</td>\n",
       "      <td>1126</td>\n",
       "    </tr>\n",
       "  </tbody>\n",
       "</table>\n",
       "</div>"
      ],
      "text/plain": [
       "   carat colour clarity certification  price\n",
       "0   0.30      D     VS2           GIA   1302\n",
       "1   0.30      E     VS1           GIA   1510\n",
       "2   0.30      G    VVS1           GIA   1510\n",
       "3   0.30      G     VS1           GIA   1260\n",
       "4   0.31      D     VS1           GIA   1641\n",
       "5   0.31      E     VS1           GIA   1555\n",
       "6   0.31      F     VS1           GIA   1427\n",
       "7   0.31      G    VVS2           GIA   1427\n",
       "8   0.31      H     VS2           GIA   1126\n",
       "9   0.31      I     VS1           GIA   1126"
      ]
     },
     "execution_count": 53,
     "metadata": {},
     "output_type": "execute_result"
    }
   ],
   "source": [
    "# 2. Load the Dataset\n",
    "\n",
    "df = pd.read_csv(\"Diamond.csv\")\n",
    "\n",
    "# Display first few rows to inspect structure\n",
    "df.head(10)"
   ]
  },
  {
   "cell_type": "code",
   "execution_count": 54,
   "id": "5082e24d-b4da-4022-9381-67ae7b34a3c5",
   "metadata": {},
   "outputs": [
    {
     "name": "stdout",
     "output_type": "stream",
     "text": [
      "Dataset Shape: (308, 5)\n",
      "\n",
      "Column Names: ['carat', 'colour', 'clarity', 'certification', 'price']\n",
      "\n",
      "Data Types:\n",
      "carat            float64\n",
      "colour            object\n",
      "clarity           object\n",
      "certification     object\n",
      "price              int64\n",
      "dtype: object\n",
      "\n",
      "Missing Values per Column:\n",
      "carat            0\n",
      "colour           0\n",
      "clarity          0\n",
      "certification    0\n",
      "price            0\n",
      "dtype: int64\n"
     ]
    }
   ],
   "source": [
    "# 3. Basic Dataset Information\n",
    "\n",
    "print(\"Dataset Shape:\", df.shape)\n",
    "print(\"\\nColumn Names:\", df.columns.tolist())\n",
    "print(\"\\nData Types:\")\n",
    "print(df.dtypes)\n",
    "\n",
    "# Check for missing values\n",
    "print(\"\\nMissing Values per Column:\")\n",
    "print(df.isnull().sum())"
   ]
  },
  {
   "cell_type": "code",
   "execution_count": 55,
   "id": "e05bf728-1167-46e4-bba1-8769dd3653af",
   "metadata": {},
   "outputs": [],
   "source": [
    "# 4. Identify Variable Types\n",
    "\n",
    "# Based on the data snippet:\n",
    "# - Numerical variables: 'carat', 'price'\n",
    "# - Categorical variables: 'colour', 'clarity', 'certification'\n",
    "\n",
    "numerical_cols = ['carat', 'price']\n",
    "categorical_cols = ['colour', 'clarity', 'certification']"
   ]
  },
  {
   "cell_type": "markdown",
   "id": "3d1a49b5-3c2b-4fe4-bd85-a4e6377863dc",
   "metadata": {},
   "source": [
    "## **Descriptive Statistics for Numerical Variables**"
   ]
  },
  {
   "cell_type": "code",
   "execution_count": 56,
   "id": "357ca148-d723-4b0a-8c92-28b909ca1f4e",
   "metadata": {},
   "outputs": [
    {
     "name": "stdout",
     "output_type": "stream",
     "text": [
      "Sample size (number of observations): 308\n"
     ]
    }
   ],
   "source": [
    "# Select numerical columns\n",
    "num_df = df[numerical_cols]\n",
    "\n",
    "# 4.1 Sample Size (Number of Observations)\n",
    "n_obs = len(num_df)\n",
    "print(f\"Sample size (number of observations): {n_obs}\")\n",
    "\n",
    "# Interpretation:\n",
    "# This is the total number of diamond records in the dataset. "
   ]
  },
  {
   "cell_type": "code",
   "execution_count": 57,
   "id": "1e17386d-25fd-4dfe-9a67-44a6ae943f7e",
   "metadata": {},
   "outputs": [
    {
     "name": "stdout",
     "output_type": "stream",
     "text": [
      "\n",
      "Minimum values:\n",
      "carat      0.18\n",
      "price    638.00\n",
      "dtype: float64\n",
      "\n",
      "Maximum values:\n",
      "carat        1.1\n",
      "price    16008.0\n",
      "dtype: float64\n"
     ]
    }
   ],
   "source": [
    "# 4.2 Min and Max\n",
    "min_vals = num_df.min()\n",
    "max_vals = num_df.max()\n",
    "print(\"\\nMinimum values:\")\n",
    "print(min_vals)\n",
    "print(\"\\nMaximum values:\")\n",
    "print(max_vals)\n",
    "\n",
    "# Interpretation:\n",
    "# The minimum and maximum show the range of observed values for each numerical variable.\n",
    "# For example, the smallest diamond is X carats and the largest is Y carats.\n",
    "# These help identify potential outliers or data entry errors (e.g., carat = 0 or price < 0)."
   ]
  },
  {
   "cell_type": "code",
   "execution_count": 58,
   "id": "689091f8-a2aa-4b65-b643-c00f64165476",
   "metadata": {},
   "outputs": [
    {
     "name": "stdout",
     "output_type": "stream",
     "text": [
      "\n",
      "Sample mean (average):\n",
      "carat       0.630909\n",
      "price    5019.483766\n",
      "dtype: float64\n"
     ]
    }
   ],
   "source": [
    "# 4.3 Sample Mean (Average)\n",
    "mean_vals = num_df.mean()\n",
    "print(\"\\nSample mean (average):\")\n",
    "print(mean_vals)\n",
    "\n",
    "# Interpretation:\n",
    "# The mean is the arithmetic average. It represents the \"center of mass\" of the data.\n",
    "# However, it can be influenced by extreme values (outliers). \n",
    "# For skewed distributions (like price), the median may be more representative."
   ]
  },
  {
   "cell_type": "code",
   "execution_count": 59,
   "id": "89de2bae-5390-4837-b61d-b1cc320be137",
   "metadata": {},
   "outputs": [
    {
     "name": "stdout",
     "output_type": "stream",
     "text": [
      "\n",
      "Sample variance:\n",
      "carat    7.683044e-02\n",
      "price    1.158120e+07\n",
      "dtype: float64\n",
      "\n",
      "Sample standard deviation:\n",
      "carat       0.277183\n",
      "price    3403.115715\n",
      "dtype: float64\n"
     ]
    }
   ],
   "source": [
    "# 4.4 Variance and Standard Deviation\n",
    "var_vals = num_df.var(ddof=1)  # ddof=1 for sample variance; Delta Degrees of Freedom. The divisor used in calculations is N - ddof, where N represents the number of elements.\n",
    "std_vals = num_df.std(ddof=1)\n",
    "print(\"\\nSample variance:\")\n",
    "print(var_vals)\n",
    "print(\"\\nSample standard deviation:\")\n",
    "print(std_vals)\n",
    "\n",
    "# Interpretation:\n",
    "# Variance measures the average squared deviation from the mean.\n",
    "# Standard deviation (square root of variance) is in the same units as the original data.\n",
    "# A higher standard deviation means the data points are more spread out from the mean.\n",
    "# For example, if price has a high std, diamond prices vary widely."
   ]
  },
  {
   "cell_type": "code",
   "execution_count": 60,
   "id": "6048c57c-29ed-4ff9-b3b4-8e6e88da2eb0",
   "metadata": {},
   "outputs": [
    {
     "name": "stdout",
     "output_type": "stream",
     "text": [
      "\n",
      "Median:\n",
      "carat       0.62\n",
      "price    4215.00\n",
      "dtype: float64\n"
     ]
    }
   ],
   "source": [
    "# 4.5 Median\n",
    "median_vals = num_df.median()\n",
    "print(\"\\nMedian:\")\n",
    "print(median_vals)\n",
    "\n",
    "# Interpretation:\n",
    "# The median is the middle value when data is sorted. \n",
    "# It is robust to outliers and better represents the \"typical\" value in skewed distributions.\n",
    "# Compare median and mean: if mean > median, the distribution is right-skewed (common for price)."
   ]
  },
  {
   "cell_type": "code",
   "execution_count": 61,
   "id": "22f67d15-8dd8-416b-aaab-be48f6a0b401",
   "metadata": {},
   "outputs": [
    {
     "name": "stdout",
     "output_type": "stream",
     "text": [
      "\n",
      "Quartiles (25%, 50%, 75%):\n",
      "      carat   price\n",
      "0.25   0.35  1625.0\n",
      "0.50   0.62  4215.0\n",
      "0.75   0.85  7446.0\n",
      "\n",
      "5th and 95th percentiles:\n",
      "      carat    price\n",
      "0.05   0.20    919.0\n",
      "0.95   1.01  10655.6\n"
     ]
    }
   ],
   "source": [
    "# ### 4.6 Quartiles and Quantiles\n",
    "quartiles = num_df.quantile([0.25, 0.50, 0.75])\n",
    "print(\"\\nQuartiles (25%, 50%, 75%):\")\n",
    "print(quartiles)\n",
    "\n",
    "# Also compute 5th and 95th percentiles for broader view\n",
    "percentiles = num_df.quantile([0.05, 0.95])\n",
    "print(\"\\n5th and 95th percentiles:\")\n",
    "print(percentiles)\n",
    "\n",
    "# Interpretation:\n",
    "# - Q1 (25%): 25% of diamonds have values below this.\n",
    "# - Q2 (50%): same as median.\n",
    "# - Q3 (75%): 75% of diamonds have values below this.\n",
    "# The interquartile range (IQR = Q3 - Q1) measures spread of the middle 50% of data.\n",
    "# Percentiles help understand tails of the distribution (e.g., top 5% most expensive diamonds)."
   ]
  },
  {
   "cell_type": "code",
   "execution_count": 62,
   "id": "2c8e3f44-7e30-48a0-bd8e-d77fd3d0de5a",
   "metadata": {},
   "outputs": [
    {
     "name": "stdout",
     "output_type": "stream",
     "text": [
      "\n",
      "Skewness:\n",
      "carat    0.014802\n",
      "price    0.657690\n",
      "dtype: float64\n",
      "\n",
      "Kurtosis:\n",
      "carat   -1.24125\n",
      "price   -0.32484\n",
      "dtype: float64\n"
     ]
    }
   ],
   "source": [
    "# 4.7 Other Useful Statistics: Skewness and Kurtosis\n",
    "skew_vals = num_df.skew()\n",
    "kurt_vals = num_df.kurtosis()\n",
    "print(\"\\nSkewness:\")\n",
    "print(skew_vals)\n",
    "print(\"\\nKurtosis:\")\n",
    "print(kurt_vals)\n",
    "\n",
    "# Interpretation:\n",
    "# Skewness is a measure of the asymmetry and kurtosis is a measure of 'peakedness' of a distribution. \n",
    "# Skewness measures asymmetry. \n",
    "#   - Skew > 0: right-skewed (long tail to the right, common for price).\n",
    "#   - Skew < 0: left-skewed.\n",
    "# Kurtosis measures tail heaviness relative to a normal distribution.\n",
    "#   - Kurt > 0: heavy tails (more outliers).\n",
    "#   - Kurt < 0: light tails."
   ]
  },
  {
   "cell_type": "markdown",
   "id": "1554eea7-6f59-4a80-868b-b211e4fb489a",
   "metadata": {},
   "source": [
    "# **Descriptive Statistics for Categorical Variables**"
   ]
  },
  {
   "cell_type": "code",
   "execution_count": 63,
   "id": "011be0c8-70e2-4e7d-ba87-d2f0b7097d5f",
   "metadata": {},
   "outputs": [
    {
     "name": "stdout",
     "output_type": "stream",
     "text": [
      "\n",
      "Frequency table for 'colour':\n",
      "D    16\n",
      "E    44\n",
      "F    82\n",
      "G    65\n",
      "H    61\n",
      "I    40\n",
      "Name: colour, dtype: int64\n",
      "Total: 308\n",
      "\n",
      "Frequency table for 'clarity':\n",
      "IF      44\n",
      "VS1     81\n",
      "VS2     53\n",
      "VVS1    52\n",
      "VVS2    78\n",
      "Name: clarity, dtype: int64\n",
      "Total: 308\n",
      "\n",
      "Frequency table for 'certification':\n",
      "GIA    151\n",
      "HRD     79\n",
      "IGI     78\n",
      "Name: certification, dtype: int64\n",
      "Total: 308\n"
     ]
    }
   ],
   "source": [
    "# 5.1 Frequency Tables\n",
    "for col in categorical_cols:\n",
    "    freq_table = df[col].value_counts().sort_index()\n",
    "    print(f\"\\nFrequency table for '{col}':\")\n",
    "    print(freq_table)\n",
    "    print(f\"Total: {freq_table.sum()}\")\n",
    "\n",
    "# Interpretation:\n",
    "# A frequency table shows how many observations fall into each category.\n",
    "# It reveals the most and least common categories (e.g., most diamonds have 'GIA' certification).\n",
    "# This helps understand the composition of the dataset and detect imbalanced categories."
   ]
  },
  {
   "cell_type": "code",
   "execution_count": 64,
   "id": "aa3809ba-88ef-4d3c-becb-a806b65ca94a",
   "metadata": {},
   "outputs": [],
   "source": [
    "# **Descriptive Statistics for numerical and categorical variables**"
   ]
  },
  {
   "cell_type": "code",
   "execution_count": 65,
   "id": "8a240426-52ac-4748-8af0-a724e256cbbe",
   "metadata": {},
   "outputs": [
    {
     "name": "stdout",
     "output_type": "stream",
     "text": [
      "\n",
      "Mode (most frequent value) for numerical variables:\n",
      "carat       1.0\n",
      "price    5122.0\n",
      "Name: 0, dtype: float64\n",
      "\n",
      "Mode for categorical variables:\n",
      "colour             F\n",
      "clarity          VS1\n",
      "certification    GIA\n",
      "Name: 0, dtype: object\n"
     ]
    }
   ],
   "source": [
    "# 6.1 Compute mode for numerical and categorical variables\n",
    "mode_numerical = num_df.mode().iloc[0]  # Take first mode if multiple\n",
    "mode_categorical = df[categorical_cols].mode().iloc[0]\n",
    "\n",
    "print(\"\\nMode (most frequent value) for numerical variables:\")\n",
    "print(mode_numerical)\n",
    "\n",
    "print(\"\\nMode for categorical variables:\")\n",
    "print(mode_categorical)\n",
    "\n",
    "# Interpretation:\n",
    "# The mode is the value that appears most frequently in a variable.\n",
    "\n",
    "# For categorical data (e.g., colour, certification), the mode tells us the most common category (e.g., \"G\" colour or \"GIA\" certification).\n",
    "# For numerical data, the mode is less commonly used (especially with continuous values like price, where duplicates are rare),\n",
    "# but it can still highlight common price points or carat sizes (e.g., many diamonds are exactly 1.0 carat due to market preferences).\n",
    "# A dataset can be unimodal (one peak), bimodal (two common values), or have no clear mode. \n",
    "# Pandas .mode() returns all modes if multiple exist; here we take the first for simplicity."
   ]
  },
  {
   "cell_type": "markdown",
   "id": "1c7af150-703e-4a1a-b3e2-4cf5d2bf82ff",
   "metadata": {},
   "source": [
    "# **Bivariate Analysis: Two Numerical Variables**"
   ]
  },
  {
   "cell_type": "code",
   "execution_count": 66,
   "id": "f5e4fe73-ff3f-4a27-b4ba-0f97b63cb1b1",
   "metadata": {},
   "outputs": [
    {
     "name": "stdout",
     "output_type": "stream",
     "text": [
      "\n",
      "Covariance matrix:\n",
      "            carat         price\n",
      "carat    0.076830  8.911474e+02\n",
      "price  891.147376  1.158120e+07\n",
      "\n",
      "Covariance between carat and price: 891.15\n"
     ]
    }
   ],
   "source": [
    "# 7.1 Compute covariance matrix for numerical variables\n",
    "cov_matrix = num_df.cov()\n",
    "print(\"\\nCovariance matrix:\")\n",
    "print(cov_matrix)\n",
    "\n",
    "# Extract specific covariance (e.g., between carat and price)\n",
    "cov_carat_price = cov_matrix.loc['carat', 'price']\n",
    "print(f\"\\nCovariance between carat and price: {cov_carat_price:.2f}\")\n",
    "\n",
    "\n",
    "# Interpretation:\n",
    "# Covariance measures how two numerical variables change together.\n",
    "\n",
    "# A positive covariance (e.g., carat and price) means that when one variable is above its mean, the other tends to be above its mean too (they increase together).\n",
    "# A negative covariance would indicate an inverse relationship.\n",
    "# However, covariance values are not standardized—their magnitude depends on the units of the variables \n",
    "# (e.g., price in dollars vs. carat in units), so they are hard to interpret in isolation.\n",
    "# That’s why we often prefer correlation (which standardizes covariance to a -1 to +1 scale).\n",
    "# The diagonal of the covariance matrix shows the variance of each variable (since covariance of a variable with itself is its variance)."
   ]
  },
  {
   "cell_type": "code",
   "execution_count": 67,
   "id": "3b0513df-2f39-40a7-8e34-da721cdeb8df",
   "metadata": {},
   "outputs": [
    {
     "name": "stdout",
     "output_type": "stream",
     "text": [
      "\n",
      "Correlation between carat and price: 0.9447\n"
     ]
    }
   ],
   "source": [
    "# 7.2 Pairwise Correlation (e.g., carat vs price)\n",
    "correlation_carat_price = df['carat'].corr(df['price'])\n",
    "print(f\"\\nCorrelation between carat and price: {correlation_carat_price:.4f}\")\n",
    "\n",
    "# Interpretation:\n",
    "# Correlation measures the strength and direction of a linear relationship (-1 to 1).\n",
    "# A value close to +1 means as carat increases, price tends to increase linearly.\n",
    "# A value near 0 suggests no linear relationship.\n",
    "# Note: correlation does not imply causation, and it only captures linear patterns."
   ]
  },
  {
   "cell_type": "code",
   "execution_count": 68,
   "id": "5d8236cb-13aa-4159-884a-72865ff82536",
   "metadata": {},
   "outputs": [
    {
     "name": "stdout",
     "output_type": "stream",
     "text": [
      "\n",
      "Correlation matrix:\n",
      "          carat     price\n",
      "carat  1.000000  0.944727\n",
      "price  0.944727  1.000000\n"
     ]
    }
   ],
   "source": [
    "# EXTRA 8. Multivariate Analysis: Correlation Matrix (All Numerical Variables)\n",
    "# Compute full correlation matrix\n",
    "corr_matrix = num_df.corr()\n",
    "print(\"\\nCorrelation matrix:\")\n",
    "print(corr_matrix)\n",
    "\n",
    "# Interpretation:\n",
    "# The correlation matrix shows pairwise correlations between all numerical variables.\n",
    "# Diagonal is always 1 (variable correlated with itself).\n",
    "# High positive/negative off-diagonal values indicate strong linear relationships.\n",
    "# This helps identify redundant variables or key predictors (e.g., carat likely strongly correlates with price)."
   ]
  },
  {
   "cell_type": "code",
   "execution_count": 69,
   "id": "d6b9adab-321f-4fb9-99a2-2f8b3958468a",
   "metadata": {},
   "outputs": [
    {
     "name": "stdout",
     "output_type": "stream",
     "text": [
      "\n",
      "Contingency table (colour vs certification):\n",
      "certification  GIA  HRD  IGI\n",
      "colour                      \n",
      "D               10    2    4\n",
      "E               25   10    9\n",
      "F               40   19   23\n",
      "G               26   17   22\n",
      "H               29   22   10\n",
      "I               21    9   10\n"
     ]
    }
   ],
   "source": [
    "# EXTRA 9. Bivariate Analysis: Two Categorical Variables\n",
    "\n",
    "# ### Contingency Table (e.g., colour vs certification)\n",
    "contingency_table = pd.crosstab(df['colour'], df['certification'])\n",
    "print(\"\\nContingency table (colour vs certification):\")\n",
    "print(contingency_table)\n",
    "\n",
    "# Interpretation:\n",
    "# A contingency table shows the joint frequency distribution of two categorical variables.\n",
    "# It reveals associations: e.g., are certain colours more likely to be certified by GIA vs IGI?\n",
    "# If the distribution of certification is similar across colours, the variables may be independent.\n",
    "# Large differences suggest a relationship worth exploring further (e.g., with chi-square test)."
   ]
  },
  {
   "cell_type": "code",
   "execution_count": null,
   "id": "2176ddd5-8760-4073-8328-cd26dd065bd2",
   "metadata": {},
   "outputs": [],
   "source": []
  },
  {
   "cell_type": "code",
   "execution_count": null,
   "id": "4473e273-6288-4385-860b-24a59e120a4d",
   "metadata": {},
   "outputs": [],
   "source": []
  }
 ],
 "metadata": {
  "kernelspec": {
   "display_name": "Python 3 (ipykernel)",
   "language": "python",
   "name": "python3"
  },
  "language_info": {
   "codemirror_mode": {
    "name": "ipython",
    "version": 3
   },
   "file_extension": ".py",
   "mimetype": "text/x-python",
   "name": "python",
   "nbconvert_exporter": "python",
   "pygments_lexer": "ipython3",
   "version": "3.9.13"
  }
 },
 "nbformat": 4,
 "nbformat_minor": 5
}
